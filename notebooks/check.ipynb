{
 "cells": [
  {
   "cell_type": "code",
   "execution_count": 38,
   "metadata": {},
   "outputs": [],
   "source": [
    "import pymssql\n",
    "import pandas as pd"
   ]
  },
  {
   "cell_type": "code",
   "execution_count": 39,
   "metadata": {},
   "outputs": [],
   "source": [
    "def dataframe_from_query(given_cursor, given_query):\n",
    "    given_cursor.execute(given_query)\n",
    "    return_data = given_cursor.fetchall()\n",
    "    dfr_columns = [item[0] for item in given_cursor.description]\n",
    "    return_dataframe = pd.DataFrame(data=return_data, columns=dfr_columns)\n",
    "    \n",
    "    return return_dataframe"
   ]
  },
  {
   "cell_type": "code",
   "execution_count": 40,
   "metadata": {},
   "outputs": [],
   "source": [
    "conn = pymssql.connect(\n",
    "    server='10.100.200.3',\n",
    "    port='1433',\n",
    "    user='pawel', \n",
    "    password='20Al3Mot@VP@weL22#',\n",
    "    database='SPEED',\n",
    "    charset='ISO-8859-2')\n",
    "cursor = conn.cursor()"
   ]
  },
  {
   "cell_type": "markdown",
   "metadata": {},
   "source": [
    "### Czy są niezafakturowane zlecenia, pod którymi są koszty?"
   ]
  },
  {
   "cell_type": "code",
   "execution_count": 41,
   "metadata": {},
   "outputs": [],
   "source": [
    "zlecenia_query = \"\"\"\n",
    "    SELECT * FROM [SPEED].[dbo].[ZLECENIA]  WHERE LOKALIZACJA = 'KAT_MS' AND YEAR([ZA_DATA]) = 2021\"\"\""
   ]
  },
  {
   "cell_type": "code",
   "execution_count": 42,
   "metadata": {},
   "outputs": [],
   "source": [
    "zlecenia_df = dataframe_from_query(cursor, zlecenia_query).fillna('')"
   ]
  },
  {
   "cell_type": "code",
   "execution_count": 43,
   "metadata": {
    "scrolled": true
   },
   "outputs": [],
   "source": [
    "faktura_cols = [col for col in zlecenia_df.columns if 'FAKT' in col]"
   ]
  },
  {
   "cell_type": "code",
   "execution_count": 44,
   "metadata": {
    "scrolled": true
   },
   "outputs": [
    {
     "data": {
      "text/html": [
       "<div>\n",
       "<style scoped>\n",
       "    .dataframe tbody tr th:only-of-type {\n",
       "        vertical-align: middle;\n",
       "    }\n",
       "\n",
       "    .dataframe tbody tr th {\n",
       "        vertical-align: top;\n",
       "    }\n",
       "\n",
       "    .dataframe thead th {\n",
       "        text-align: right;\n",
       "    }\n",
       "</style>\n",
       "<table border=\"1\" class=\"dataframe\">\n",
       "  <thead>\n",
       "    <tr style=\"text-align: right;\">\n",
       "      <th></th>\n",
       "      <th>NR_ZLECENIA</th>\n",
       "      <th>FAKTURA</th>\n",
       "      <th>FAKTURA_DATA</th>\n",
       "      <th>FAKTURA_ZB_ID</th>\n",
       "      <th>FAKTURA_ZB</th>\n",
       "      <th>FAKTURA_PF</th>\n",
       "      <th>FAKTURA_K</th>\n",
       "      <th>FAKTURA_K_ZB_ID</th>\n",
       "      <th>FAKTURA_K_ZB</th>\n",
       "      <th>ZAFAKTUROWANE</th>\n",
       "    </tr>\n",
       "  </thead>\n",
       "  <tbody>\n",
       "    <tr>\n",
       "      <th>301</th>\n",
       "      <td>00119/S/02/2021/JG/MS</td>\n",
       "      <td></td>\n",
       "      <td></td>\n",
       "      <td></td>\n",
       "      <td></td>\n",
       "      <td></td>\n",
       "      <td>FA/3918/02/2021/TVM</td>\n",
       "      <td></td>\n",
       "      <td></td>\n",
       "      <td>0</td>\n",
       "    </tr>\n",
       "    <tr>\n",
       "      <th>576</th>\n",
       "      <td>00125/S/03/2021/AB/MS</td>\n",
       "      <td></td>\n",
       "      <td></td>\n",
       "      <td></td>\n",
       "      <td></td>\n",
       "      <td></td>\n",
       "      <td>215/03/2021</td>\n",
       "      <td></td>\n",
       "      <td></td>\n",
       "      <td>0</td>\n",
       "    </tr>\n",
       "    <tr>\n",
       "      <th>643</th>\n",
       "      <td>00192/S/03/2021/JG/MS</td>\n",
       "      <td></td>\n",
       "      <td></td>\n",
       "      <td></td>\n",
       "      <td></td>\n",
       "      <td></td>\n",
       "      <td>FA/6388/03/2021/TVM</td>\n",
       "      <td></td>\n",
       "      <td></td>\n",
       "      <td>0</td>\n",
       "    </tr>\n",
       "  </tbody>\n",
       "</table>\n",
       "</div>"
      ],
      "text/plain": [
       "               NR_ZLECENIA FAKTURA FAKTURA_DATA FAKTURA_ZB_ID FAKTURA_ZB  \\\n",
       "301  00119/S/02/2021/JG/MS                                                 \n",
       "576  00125/S/03/2021/AB/MS                                                 \n",
       "643  00192/S/03/2021/JG/MS                                                 \n",
       "\n",
       "    FAKTURA_PF            FAKTURA_K FAKTURA_K_ZB_ID FAKTURA_K_ZB  \\\n",
       "301             FA/3918/02/2021/TVM                                \n",
       "576                     215/03/2021                                \n",
       "643             FA/6388/03/2021/TVM                                \n",
       "\n",
       "     ZAFAKTUROWANE  \n",
       "301              0  \n",
       "576              0  \n",
       "643              0  "
      ]
     },
     "execution_count": 44,
     "metadata": {},
     "output_type": "execute_result"
    }
   ],
   "source": [
    "zlecenia_df.loc[zlecenia_df.ZAFAKTUROWANE != 1].loc[zlecenia_df.FAKTURA_K != ''][['NR_ZLECENIA'] + faktura_cols][:3]"
   ]
  },
  {
   "cell_type": "markdown",
   "metadata": {},
   "source": [
    "Istnieją niezafakturowane zlecenia, pod którymi są koszty"
   ]
  },
  {
   "cell_type": "markdown",
   "metadata": {},
   "source": [
    "### Czy są faktury bez zleceń?"
   ]
  },
  {
   "cell_type": "code",
   "execution_count": 45,
   "metadata": {},
   "outputs": [],
   "source": [
    "faktury_query = \"\"\"\n",
    "    SELECT * FROM [SPEED].[dbo].[FAKTURY] WHERE YEAR([DATA_WYSTAWIENIA]) = 2021 \n",
    "\"\"\""
   ]
  },
  {
   "cell_type": "code",
   "execution_count": 46,
   "metadata": {},
   "outputs": [],
   "source": [
    "faktury_df = dataframe_from_query(cursor, faktury_query).fillna('')"
   ]
  },
  {
   "cell_type": "code",
   "execution_count": 48,
   "metadata": {},
   "outputs": [],
   "source": [
    "zlecenia_cols = [col for col in faktury_df.columns if 'ZLEC' in col]"
   ]
  },
  {
   "cell_type": "code",
   "execution_count": 54,
   "metadata": {
    "scrolled": true
   },
   "outputs": [
    {
     "data": {
      "text/plain": [
       "<bound method NDFrame.describe of       ZLECENIE_ID ZLECENIE  ZLECENIE_C_ID ZLECENIE_C  ZLECENIE_M_ID  \\\n",
       "19              0                       0                         0   \n",
       "24              0                       0                         0   \n",
       "27              0                       0                         0   \n",
       "32              0                       0                         0   \n",
       "36              0                       0                         0   \n",
       "...           ...      ...            ...        ...            ...   \n",
       "9460            0                       0                         0   \n",
       "9461            0                       0                         0   \n",
       "9507            0                       0                         0   \n",
       "9618            0                       0                         0   \n",
       "9660            0                       0                         0   \n",
       "\n",
       "     ZLECENIE_M  ZLECENIE_RAIL_ID ZLECENIE_RAIL  ZLECENIE_ZB_ID ZLECENIE_ZB  \\\n",
       "19                              0                             0               \n",
       "24                              0                             0               \n",
       "27                              0                             0               \n",
       "32                              0                             0               \n",
       "36                              0                             0               \n",
       "...         ...               ...           ...             ...         ...   \n",
       "9460                            0                             0               \n",
       "9461                            0                             0               \n",
       "9507                            0                             0               \n",
       "9618                            0                             0               \n",
       "9660                            0                             0               \n",
       "\n",
       "                        NR_ZLEC_K W_ZLECENIE  W_ZLECENIE_ID  \n",
       "19                        401227A                         0  \n",
       "24                      KOSMONTE                          0  \n",
       "27    OHR478210(AUSFALLFRACHT!!!)                         0  \n",
       "32                         S39134                         0  \n",
       "36                          PMG2                          0  \n",
       "...                           ...        ...            ...  \n",
       "9460                  10027827470                         0  \n",
       "9461                1002228267                            0  \n",
       "9507                   1002202536                         0  \n",
       "9618                                                      0  \n",
       "9660                                                      0  \n",
       "\n",
       "[380 rows x 13 columns]>"
      ]
     },
     "execution_count": 54,
     "metadata": {},
     "output_type": "execute_result"
    }
   ],
   "source": [
    "faktury_df.loc[faktury_df.ZLECENIE == ''][zlecenia_cols].describe"
   ]
  },
  {
   "cell_type": "code",
   "execution_count": null,
   "metadata": {},
   "outputs": [],
   "source": []
  }
 ],
 "metadata": {
  "kernelspec": {
   "display_name": "Python 3",
   "language": "python",
   "name": "python3"
  },
  "language_info": {
   "codemirror_mode": {
    "name": "ipython",
    "version": 3
   },
   "file_extension": ".py",
   "mimetype": "text/x-python",
   "name": "python",
   "nbconvert_exporter": "python",
   "pygments_lexer": "ipython3",
   "version": "3.8.5"
  }
 },
 "nbformat": 4,
 "nbformat_minor": 4
}
