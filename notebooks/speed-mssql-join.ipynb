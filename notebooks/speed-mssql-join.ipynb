{
 "cells": [
  {
   "cell_type": "code",
   "execution_count": 1,
   "metadata": {},
   "outputs": [],
   "source": [
    "import pymssql\n",
    "import pandas as pd\n",
    "import string"
   ]
  },
  {
   "cell_type": "code",
   "execution_count": 2,
   "metadata": {},
   "outputs": [],
   "source": [
    "pd.set_option('display.max_columns', None)"
   ]
  },
  {
   "cell_type": "code",
   "execution_count": 3,
   "metadata": {},
   "outputs": [],
   "source": [
    "conn = pymssql.connect(\n",
    "    server='10.100.200.3',\n",
    "    port='1433',\n",
    "    user='pawel', \n",
    "    password='20Al3Mot@VP@weL22#', \n",
    "    database='SPEED',\n",
    "    charset='ISO-8859-2')\n",
    "cursor = conn.cursor()"
   ]
  },
  {
   "cell_type": "code",
   "execution_count": 4,
   "metadata": {},
   "outputs": [],
   "source": [
    "def dataframe_from_query(given_cursor, given_query):\n",
    "    given_cursor.execute(given_query)\n",
    "    return_data = given_cursor.fetchall()\n",
    "    dfr_columns = [item[0] for item in given_cursor.description]\n",
    "    return_dataframe = pd.DataFrame(data=return_data, columns=dfr_columns)\n",
    "    \n",
    "    return return_dataframe\n",
    "        "
   ]
  },
  {
   "cell_type": "code",
   "execution_count": 5,
   "metadata": {},
   "outputs": [],
   "source": [
    "zlec_query = \"\"\"\n",
    "SELECT\n",
    "       [ID_ZLECENIA]\n",
    "      ,[NR_ZLECENIA]\n",
    "      ,[SPEDYTOR] as 'spedytor'\n",
    "      ,[ZA_MIEJSCE] as 'miejsce załadunku'\n",
    "      ,[ZA_MIASTO] as 'miasto załadunku'\n",
    "      ,[ZA_KRAJ] as 'kraj załadunku'\n",
    "      ,[ZA_KOD] as 'kod załadunku'\n",
    "      ,[TRASA] as 'trasa'\n",
    "      ,[WY_MIEJSCE] as 'miejsce wyładunku'\n",
    "      ,[WY_MIASTO] as 'miasto wyładunku'\n",
    "      ,[WY_KRAJ] as 'kraj wyładunku'\n",
    "      ,[WY_KOD] as 'kod wyładunku'\n",
    "      ,[WY_DATA] as 'data wyładunku'\n",
    "      ,[KWOTA_K] as 'przychód netto'\n",
    "      ,[WALUTA_K] as 'waluta przychodu'\n",
    "      ,[FAKTURA] as 'faktura'\n",
    "      ,[FAKTURA_ZB_ID]\n",
    "      ,[FAKTURA_ZB] as 'faktura zbiorcza'\n",
    "      ,[NR_ZLECENIA_K]\n",
    "      ,[KWOTA_P] as 'koszt przewoźnika'\n",
    "      ,[WALUTA_P] as 'waluta koszt'\n",
    "      ,[WALUTA_FV_P]\n",
    "      ,[FAKTURA_K] as 'faktura przewoźnika'\n",
    "      ,[FAKTURA_K_ZB] as 'faktura przew zbiorcza'\n",
    "      ,[STATUS]\n",
    " FROM [SPEED].[dbo].[ZLECENIA]\n",
    " WHERE MONTH([ZA_DATA]) = 1\n",
    " AND YEAR([ZA_DATA]) = 2022\n",
    " AND [ZAFAKTUROWANE] = 1\n",
    " \"\"\""
   ]
  },
  {
   "cell_type": "code",
   "execution_count": 6,
   "metadata": {},
   "outputs": [],
   "source": [
    "zlec_df = dataframe_from_query(cursor, zlec_query)"
   ]
  },
  {
   "cell_type": "code",
   "execution_count": 7,
   "metadata": {},
   "outputs": [],
   "source": [
    "status_str = str(set(zlec_df.STATUS.to_list())).replace('{', '(').replace('}', ')')\n",
    "\n",
    "status_query = f\"\"\"\n",
    "  SELECT KOD, OPIS\n",
    "  FROM [SPEED].[dbo].[STATUS]\n",
    "  WHERE KOD IN {status_str}\n",
    "  AND TYP = 'FT'\n",
    "\"\"\"\n",
    "\n",
    "status_df = dataframe_from_query(cursor, status_query).set_index('KOD')\n",
    "zlec_df = zlec_df.join(status_df, on='STATUS')"
   ]
  },
  {
   "cell_type": "code",
   "execution_count": 13,
   "metadata": {},
   "outputs": [],
   "source": [
    "relevant_zlec_ids = str(set(zlec_df.ID_ZLECENIA.to_list()))\n",
    "relevant_zlec_ids = relevant_zlec_ids.replace('{', '(').replace('}', ')')\n",
    "\n",
    "faktury_query = f\"\"\"\n",
    "  SELECT * FROM FAKTURY WHERE ZLECENIE_ID IN {relevant_zlec_ids}\"\"\"\n",
    "\n",
    "all_faktury_df = dataframe_from_query(cursor, faktury_query)"
   ]
  },
  {
   "cell_type": "code",
   "execution_count": 14,
   "metadata": {},
   "outputs": [
    {
     "data": {
      "text/plain": [
       "521"
      ]
     },
     "execution_count": 14,
     "metadata": {},
     "output_type": "execute_result"
    }
   ],
   "source": [
    "len(faktury_df.ZLECENIE_ID.unique())"
   ]
  },
  {
   "cell_type": "code",
   "execution_count": 15,
   "metadata": {},
   "outputs": [],
   "source": [
    "numery_faktur_list = [el for el in zlec_df.faktura.to_list() if el not in ['', None]]\n",
    "numery_faktur_str = str(set(numery_faktur_list)).replace('{', '(').replace('}', ')')\n",
    "\n",
    "numery_faktur_query = f\"\"\"\n",
    "  SELECT * FROM FAKTURY WHERE NUMER_FAKTURY IN {numery_faktur_str}\"\"\"\n",
    "\n",
    "faktury_przych_df = dataframe_from_query(cursor, numery_faktur_query)"
   ]
  },
  {
   "cell_type": "code",
   "execution_count": 16,
   "metadata": {},
   "outputs": [
    {
     "data": {
      "text/plain": [
       "278"
      ]
     },
     "execution_count": 16,
     "metadata": {},
     "output_type": "execute_result"
    }
   ],
   "source": [
    "len(numery_faktur_list)"
   ]
  },
  {
   "cell_type": "code",
   "execution_count": 17,
   "metadata": {},
   "outputs": [
    {
     "data": {
      "text/plain": [
       "[]"
      ]
     },
     "execution_count": 17,
     "metadata": {},
     "output_type": "execute_result"
    }
   ],
   "source": [
    "missing_faktury = [el for el in faktury_przych_df.NUMER_FAKTURY.to_list() if el not in faktury_df.NUMER_FAKTURY.to_list()]\n",
    "missing_faktury"
   ]
  },
  {
   "cell_type": "code",
   "execution_count": 18,
   "metadata": {
    "scrolled": true
   },
   "outputs": [
    {
     "data": {
      "text/plain": [
       "278"
      ]
     },
     "execution_count": 18,
     "metadata": {},
     "output_type": "execute_result"
    }
   ],
   "source": [
    "len(faktury_przych_df)"
   ]
  },
  {
   "cell_type": "code",
   "execution_count": 19,
   "metadata": {},
   "outputs": [],
   "source": [
    "faktury_cols = ['NETTO_PLN', 'NUMER_FAKTURY', 'ID_FAKTURY', 'ZLECENIE_ID']"
   ]
  },
  {
   "cell_type": "code",
   "execution_count": null,
   "metadata": {
    "scrolled": true
   },
   "outputs": [],
   "source": [
    "faktury_przych_df[faktury_cols]"
   ]
  },
  {
   "cell_type": "markdown",
   "metadata": {},
   "source": [
    "### Noty"
   ]
  },
  {
   "cell_type": "code",
   "execution_count": 20,
   "metadata": {},
   "outputs": [],
   "source": [
    "noty_cols = faktury_cols + ['NOTA', 'NOTA_UZNANIOWA']\n",
    "\n",
    "nota_df = all_faktury_df[noty_cols].loc[all_faktury_df.NOTA == 1]"
   ]
  },
  {
   "cell_type": "markdown",
   "metadata": {},
   "source": [
    "### Noty uznaniowe"
   ]
  },
  {
   "cell_type": "code",
   "execution_count": 21,
   "metadata": {},
   "outputs": [
    {
     "data": {
      "text/plain": [
       "Series([], Name: NETTO_PLN, dtype: float64)"
      ]
     },
     "execution_count": 21,
     "metadata": {},
     "output_type": "execute_result"
    }
   ],
   "source": [
    "nota_df['NETTO_PLN'].loc[nota_df.NOTA_UZNANIOWA == 1].apply(lambda x: x*(-1))"
   ]
  },
  {
   "cell_type": "markdown",
   "metadata": {},
   "source": [
    "### Noty suma"
   ]
  },
  {
   "cell_type": "code",
   "execution_count": 22,
   "metadata": {
    "scrolled": false
   },
   "outputs": [],
   "source": [
    "nota_df = nota_df.groupby('ZLECENIE_ID')['NETTO_PLN'].sum()"
   ]
  },
  {
   "cell_type": "code",
   "execution_count": 25,
   "metadata": {
    "scrolled": false
   },
   "outputs": [],
   "source": [
    "faktury_df = all_faktury_df[faktury_cols].loc[all_faktury_df.NOTA == 0]"
   ]
  },
  {
   "cell_type": "code",
   "execution_count": 70,
   "metadata": {},
   "outputs": [
    {
     "data": {
      "text/plain": [
       "ZLECENIE_ID\n",
       "7884      27.27\n",
       "7890    1094.30\n",
       "7903     685.08\n",
       "7922    2260.05\n",
       "7961      27.60\n",
       "7984    1358.10\n",
       "7986      27.26\n",
       "8026      27.30\n",
       "8070      55.00\n",
       "8098    2263.48\n",
       "8101    1129.18\n",
       "8157    2284.85\n",
       "8180     633.85\n",
       "8202    3634.56\n",
       "8210    1131.85\n",
       "8314      27.30\n",
       "8316      55.00\n",
       "8317      55.00\n",
       "8334      27.30\n",
       "8373      55.00\n",
       "8441      27.60\n",
       "Name: NETTO_PLN, dtype: float64"
      ]
     },
     "execution_count": 70,
     "metadata": {},
     "output_type": "execute_result"
    }
   ],
   "source": [
    "nota_df"
   ]
  },
  {
   "cell_type": "code",
   "execution_count": 26,
   "metadata": {},
   "outputs": [],
   "source": [
    "zlec_df.fillna('', inplace=True)\n",
    "zlec_df.FAKTURA_ZB_ID = zlec_df.FAKTURA_ZB_ID.astype(str).replace('0', '')\n",
    "for col in zlec_df.columns:\n",
    "    if isinstance(zlec_df[col].iloc[1], str):\n",
    "        zlec_df[col] = zlec_df[col].str.replace('Ľ', 'Ą')"
   ]
  },
  {
   "cell_type": "code",
   "execution_count": 27,
   "metadata": {},
   "outputs": [],
   "source": [
    "zlec_cols = ['ID_ZLECENIA', \n",
    "                 'przychód netto', \n",
    "                 'waluta przychodu',\n",
    "                 'faktura', \n",
    "                 'FAKTURA_ZB_ID', \n",
    "                 'NR_ZLECENIA_K', \n",
    "                 'koszt przewoźnika', \n",
    "                 'waluta koszt', \n",
    "                 'WALUTA_FV_P', \n",
    "                 'faktura przewoźnika', \n",
    "                 'faktura przew zbiorcza']"
   ]
  },
  {
   "cell_type": "code",
   "execution_count": 28,
   "metadata": {},
   "outputs": [
    {
     "data": {
      "text/plain": [
       "21"
      ]
     },
     "execution_count": 28,
     "metadata": {},
     "output_type": "execute_result"
    }
   ],
   "source": [
    "len(zlec_df.FAKTURA_ZB_ID.unique())"
   ]
  },
  {
   "cell_type": "code",
   "execution_count": 29,
   "metadata": {},
   "outputs": [
    {
     "data": {
      "text/plain": [
       "279"
      ]
     },
     "execution_count": 29,
     "metadata": {},
     "output_type": "execute_result"
    }
   ],
   "source": [
    "len(zlec_df.faktura.unique())"
   ]
  },
  {
   "cell_type": "code",
   "execution_count": 30,
   "metadata": {},
   "outputs": [
    {
     "data": {
      "text/html": [
       "<div>\n",
       "<style scoped>\n",
       "    .dataframe tbody tr th:only-of-type {\n",
       "        vertical-align: middle;\n",
       "    }\n",
       "\n",
       "    .dataframe tbody tr th {\n",
       "        vertical-align: top;\n",
       "    }\n",
       "\n",
       "    .dataframe thead th {\n",
       "        text-align: right;\n",
       "    }\n",
       "</style>\n",
       "<table border=\"1\" class=\"dataframe\">\n",
       "  <thead>\n",
       "    <tr style=\"text-align: right;\">\n",
       "      <th></th>\n",
       "      <th>ID_ZLECENIA</th>\n",
       "      <th>przychód netto</th>\n",
       "      <th>waluta przychodu</th>\n",
       "      <th>faktura</th>\n",
       "      <th>FAKTURA_ZB_ID</th>\n",
       "      <th>NR_ZLECENIA_K</th>\n",
       "      <th>koszt przewoźnika</th>\n",
       "      <th>waluta koszt</th>\n",
       "      <th>WALUTA_FV_P</th>\n",
       "      <th>faktura przewoźnika</th>\n",
       "      <th>faktura przew zbiorcza</th>\n",
       "      <th>OPIS</th>\n",
       "    </tr>\n",
       "  </thead>\n",
       "  <tbody>\n",
       "    <tr>\n",
       "      <th>539</th>\n",
       "      <td>8387</td>\n",
       "      <td>2730.0</td>\n",
       "      <td>PLN</td>\n",
       "      <td>00137/FV/01/2022/MS</td>\n",
       "      <td></td>\n",
       "      <td>FR/2022/01/25/2JNRAL4500641439</td>\n",
       "      <td>350.0</td>\n",
       "      <td>EUR</td>\n",
       "      <td>EUR</td>\n",
       "      <td>54/2022</td>\n",
       "      <td></td>\n",
       "      <td>Zafakturowano</td>\n",
       "    </tr>\n",
       "  </tbody>\n",
       "</table>\n",
       "</div>"
      ],
      "text/plain": [
       "     ID_ZLECENIA  przychód netto waluta przychodu              faktura  \\\n",
       "539         8387          2730.0              PLN  00137/FV/01/2022/MS   \n",
       "\n",
       "    FAKTURA_ZB_ID                   NR_ZLECENIA_K  koszt przewoźnika  \\\n",
       "539                FR/2022/01/25/2JNRAL4500641439              350.0   \n",
       "\n",
       "    waluta koszt WALUTA_FV_P faktura przewoźnika faktura przew zbiorcza  \\\n",
       "539          EUR         EUR             54/2022                          \n",
       "\n",
       "              OPIS  \n",
       "539  Zafakturowano  "
      ]
     },
     "execution_count": 30,
     "metadata": {},
     "output_type": "execute_result"
    }
   ],
   "source": [
    "zlec_df[zlec_cols + ['OPIS']].loc[zlec_df['waluta przychodu'] != zlec_df['waluta koszt']].sample(1)"
   ]
  },
  {
   "cell_type": "code",
   "execution_count": 32,
   "metadata": {},
   "outputs": [
    {
     "data": {
      "text/plain": [
       "array([391,   1], dtype=int64)"
      ]
     },
     "execution_count": 32,
     "metadata": {},
     "output_type": "execute_result"
    }
   ],
   "source": [
    "zlec_df.faktura.value_counts().unique()"
   ]
  },
  {
   "cell_type": "code",
   "execution_count": 33,
   "metadata": {},
   "outputs": [],
   "source": [
    "unique_ids = zlec_df.ID_ZLECENIA.to_list()"
   ]
  },
  {
   "cell_type": "markdown",
   "metadata": {},
   "source": [
    "1. Pobieram Zlecenia, patrzę według daty Wyładunku wybrany miesiąc\n",
    "2. Pobieram Faktury na podstawie ID zleceń\n",
    "3. Faktury Przychód na podstawie zleceń\n",
    "4. Faktury Koszt na podstawie Zleceń\n",
    "5. Faktury Nota na podstawie Zleceń"
   ]
  },
  {
   "cell_type": "code",
   "execution_count": 34,
   "metadata": {},
   "outputs": [],
   "source": [
    "numery_faktur_przych_list = [el for el in zlec_df.faktura.to_list() if el != '']"
   ]
  },
  {
   "cell_type": "code",
   "execution_count": 35,
   "metadata": {},
   "outputs": [],
   "source": [
    "przych_faktury_df = all_faktury_df.loc[all_faktury_df.NUMER_FAKTURY.isin(numery_faktur_przych_list)].set_index('NUMER_FAKTURY')"
   ]
  },
  {
   "cell_type": "code",
   "execution_count": 36,
   "metadata": {},
   "outputs": [
    {
     "data": {
      "text/plain": [
       "NUMER_FAKTURY\n",
       "00008/FV/01/2022/MS    7317.92\n",
       "00031/FV/01/2022/MS    4543.01\n",
       "00030/FV/01/2022/MS    4345.02\n",
       "00029/FV/01/2022/MS    4359.46\n",
       "00028/FV/01/2022/MS    4359.46\n",
       "                        ...   \n",
       "00024/FV/02/2022/MS     683.25\n",
       "00025/FV/02/2022/MS     455.50\n",
       "00187/FV/01/2022/MS    3542.00\n",
       "00188/FV/01/2022/MS    3058.30\n",
       "00191/FV/01/2022/MS    6781.40\n",
       "Name: NETTO_PLN, Length: 278, dtype: float64"
      ]
     },
     "execution_count": 36,
     "metadata": {},
     "output_type": "execute_result"
    }
   ],
   "source": [
    "przych_faktury_df['NETTO_PLN']"
   ]
  },
  {
   "cell_type": "code",
   "execution_count": 37,
   "metadata": {},
   "outputs": [],
   "source": [
    "numery_faktur_koszt_list = [el for el in zlec_df['faktura przewoźnika'].to_list() if el != '']"
   ]
  },
  {
   "cell_type": "code",
   "execution_count": 38,
   "metadata": {},
   "outputs": [],
   "source": [
    "koszt_faktury_df = all_faktury_df.loc[all_faktury_df.NUMER_FAKTURY.isin(numery_faktur_koszt_list)].set_index('NUMER_FAKTURY')"
   ]
  },
  {
   "cell_type": "code",
   "execution_count": 39,
   "metadata": {},
   "outputs": [
    {
     "data": {
      "text/plain": [
       "NUMER_FAKTURY\n",
       "2/2022            6860.55\n",
       "FV/62/01/2021     4084.12\n",
       "FV/124/01/2022    4070.59\n",
       "FV/36/01/2022     4070.59\n",
       "FV/126/01/2022    4070.59\n",
       "                   ...   \n",
       "8/TR/2022         1010.00\n",
       "FS/22/2/66        1977.23\n",
       "F-WAW-22-01280    9828.30\n",
       "F-WAW-22-01281     457.13\n",
       "F-WAW-22-01282     457.13\n",
       "Name: NETTO_PLN, Length: 481, dtype: float64"
      ]
     },
     "execution_count": 39,
     "metadata": {},
     "output_type": "execute_result"
    }
   ],
   "source": [
    "koszt_faktury_df['NETTO_PLN']"
   ]
  },
  {
   "cell_type": "code",
   "execution_count": 40,
   "metadata": {},
   "outputs": [],
   "source": [
    "saldo_cols = ['przychód netto', 'waluta przychodu', 'faktura', 'FAKTURA_ZB_ID', 'faktura przewoźnika', 'faktura przew zbiorcza', 'koszt przewoźnika', 'waluta koszt']"
   ]
  },
  {
   "cell_type": "code",
   "execution_count": 41,
   "metadata": {},
   "outputs": [
    {
     "data": {
      "text/plain": [
       "669"
      ]
     },
     "execution_count": 41,
     "metadata": {},
     "output_type": "execute_result"
    }
   ],
   "source": [
    "len(zlec_df)"
   ]
  },
  {
   "cell_type": "code",
   "execution_count": 43,
   "metadata": {},
   "outputs": [
    {
     "data": {
      "text/plain": [
       "00124/FV/01/2022/MS     1\n",
       "00024/FV/01/2022/MS     1\n",
       "00089/FV/01/2022/ALB    1\n",
       "00017/FV/01/2022/ALB    1\n",
       "00053/FV/01/2022/ALB    1\n",
       "                       ..\n",
       "00047/FV/01/2022/ALB    1\n",
       "00027/FV/01/2022/ALB    1\n",
       "00004/FV/01/2022/MS     1\n",
       "00007/FV/02/2022/MS     1\n",
       "00178/FV/01/2022/MS     1\n",
       "Name: faktura, Length: 278, dtype: int64"
      ]
     },
     "execution_count": 43,
     "metadata": {},
     "output_type": "execute_result"
    }
   ],
   "source": [
    "zlec_df.faktura.loc[zlec_df.faktura != ''].value_counts()"
   ]
  },
  {
   "cell_type": "code",
   "execution_count": 47,
   "metadata": {},
   "outputs": [
    {
     "data": {
      "text/html": [
       "<div>\n",
       "<style scoped>\n",
       "    .dataframe tbody tr th:only-of-type {\n",
       "        vertical-align: middle;\n",
       "    }\n",
       "\n",
       "    .dataframe tbody tr th {\n",
       "        vertical-align: top;\n",
       "    }\n",
       "\n",
       "    .dataframe thead th {\n",
       "        text-align: right;\n",
       "    }\n",
       "</style>\n",
       "<table border=\"1\" class=\"dataframe\">\n",
       "  <thead>\n",
       "    <tr style=\"text-align: right;\">\n",
       "      <th></th>\n",
       "      <th>przychód netto</th>\n",
       "      <th>waluta przychodu</th>\n",
       "      <th>faktura</th>\n",
       "      <th>FAKTURA_ZB_ID</th>\n",
       "      <th>faktura przewoźnika</th>\n",
       "      <th>faktura przew zbiorcza</th>\n",
       "      <th>koszt przewoźnika</th>\n",
       "      <th>waluta koszt</th>\n",
       "      <th>NETTO_PLN</th>\n",
       "    </tr>\n",
       "  </thead>\n",
       "  <tbody>\n",
       "    <tr>\n",
       "      <th>0</th>\n",
       "      <td>1900.0</td>\n",
       "      <td>EUR</td>\n",
       "      <td>00020/FV/02/2022/ALB</td>\n",
       "      <td></td>\n",
       "      <td></td>\n",
       "      <td></td>\n",
       "      <td>1800.0</td>\n",
       "      <td>EUR</td>\n",
       "      <td>8705.80</td>\n",
       "    </tr>\n",
       "    <tr>\n",
       "      <th>1</th>\n",
       "      <td>1600.0</td>\n",
       "      <td>EUR</td>\n",
       "      <td>00008/FV/01/2022/MS</td>\n",
       "      <td></td>\n",
       "      <td>2/2022</td>\n",
       "      <td></td>\n",
       "      <td>1500.0</td>\n",
       "      <td>EUR</td>\n",
       "      <td>7317.92</td>\n",
       "    </tr>\n",
       "    <tr>\n",
       "      <th>2</th>\n",
       "      <td>990.0</td>\n",
       "      <td>EUR</td>\n",
       "      <td>00031/FV/01/2022/MS</td>\n",
       "      <td></td>\n",
       "      <td>FV/62/01/2021</td>\n",
       "      <td></td>\n",
       "      <td>890.0</td>\n",
       "      <td>EUR</td>\n",
       "      <td>4543.01</td>\n",
       "    </tr>\n",
       "    <tr>\n",
       "      <th>3</th>\n",
       "      <td>950.0</td>\n",
       "      <td>EUR</td>\n",
       "      <td>00029/FV/01/2022/MS</td>\n",
       "      <td></td>\n",
       "      <td>FV/36/01/2022</td>\n",
       "      <td></td>\n",
       "      <td>890.0</td>\n",
       "      <td>EUR</td>\n",
       "      <td>4359.46</td>\n",
       "    </tr>\n",
       "    <tr>\n",
       "      <th>4</th>\n",
       "      <td>950.0</td>\n",
       "      <td>EUR</td>\n",
       "      <td>00028/FV/01/2022/MS</td>\n",
       "      <td></td>\n",
       "      <td>FV/126/01/2022</td>\n",
       "      <td></td>\n",
       "      <td>890.0</td>\n",
       "      <td>EUR</td>\n",
       "      <td>4359.46</td>\n",
       "    </tr>\n",
       "    <tr>\n",
       "      <th>...</th>\n",
       "      <td>...</td>\n",
       "      <td>...</td>\n",
       "      <td>...</td>\n",
       "      <td>...</td>\n",
       "      <td>...</td>\n",
       "      <td>...</td>\n",
       "      <td>...</td>\n",
       "      <td>...</td>\n",
       "      <td>...</td>\n",
       "    </tr>\n",
       "    <tr>\n",
       "      <th>652</th>\n",
       "      <td>330.0</td>\n",
       "      <td>EUR</td>\n",
       "      <td>00002/FV/02/2022/MS</td>\n",
       "      <td></td>\n",
       "      <td>3/02/2022</td>\n",
       "      <td></td>\n",
       "      <td>300.0</td>\n",
       "      <td>EUR</td>\n",
       "      <td>1517.41</td>\n",
       "    </tr>\n",
       "    <tr>\n",
       "      <th>654</th>\n",
       "      <td>650.0</td>\n",
       "      <td>EUR</td>\n",
       "      <td>00029/FV/02/2022/ALB</td>\n",
       "      <td></td>\n",
       "      <td>31/2022</td>\n",
       "      <td></td>\n",
       "      <td>600.0</td>\n",
       "      <td>EUR</td>\n",
       "      <td>2988.83</td>\n",
       "    </tr>\n",
       "    <tr>\n",
       "      <th>657</th>\n",
       "      <td>900.0</td>\n",
       "      <td>EUR</td>\n",
       "      <td>00066/FV/02/2022/MS</td>\n",
       "      <td></td>\n",
       "      <td>12/2022</td>\n",
       "      <td></td>\n",
       "      <td>750.0</td>\n",
       "      <td>EUR</td>\n",
       "      <td>4095.00</td>\n",
       "    </tr>\n",
       "    <tr>\n",
       "      <th>658</th>\n",
       "      <td>360.0</td>\n",
       "      <td>EUR</td>\n",
       "      <td>00010/FV/02/2022/MS</td>\n",
       "      <td></td>\n",
       "      <td>3/02/2022</td>\n",
       "      <td></td>\n",
       "      <td>290.0</td>\n",
       "      <td>EUR</td>\n",
       "      <td>1655.35</td>\n",
       "    </tr>\n",
       "    <tr>\n",
       "      <th>668</th>\n",
       "      <td>1920.0</td>\n",
       "      <td>PLN</td>\n",
       "      <td>00184/FV/01/2022/MS</td>\n",
       "      <td></td>\n",
       "      <td></td>\n",
       "      <td>8/02/2022</td>\n",
       "      <td>1760.0</td>\n",
       "      <td>PLN</td>\n",
       "      <td>1920.00</td>\n",
       "    </tr>\n",
       "  </tbody>\n",
       "</table>\n",
       "<p>278 rows × 9 columns</p>\n",
       "</div>"
      ],
      "text/plain": [
       "     przychód netto waluta przychodu               faktura FAKTURA_ZB_ID  \\\n",
       "0            1900.0              EUR  00020/FV/02/2022/ALB                 \n",
       "1            1600.0              EUR   00008/FV/01/2022/MS                 \n",
       "2             990.0              EUR   00031/FV/01/2022/MS                 \n",
       "3             950.0              EUR   00029/FV/01/2022/MS                 \n",
       "4             950.0              EUR   00028/FV/01/2022/MS                 \n",
       "..              ...              ...                   ...           ...   \n",
       "652           330.0              EUR   00002/FV/02/2022/MS                 \n",
       "654           650.0              EUR  00029/FV/02/2022/ALB                 \n",
       "657           900.0              EUR   00066/FV/02/2022/MS                 \n",
       "658           360.0              EUR   00010/FV/02/2022/MS                 \n",
       "668          1920.0              PLN   00184/FV/01/2022/MS                 \n",
       "\n",
       "    faktura przewoźnika faktura przew zbiorcza  koszt przewoźnika  \\\n",
       "0                                                          1800.0   \n",
       "1                2/2022                                    1500.0   \n",
       "2         FV/62/01/2021                                     890.0   \n",
       "3         FV/36/01/2022                                     890.0   \n",
       "4        FV/126/01/2022                                     890.0   \n",
       "..                  ...                    ...                ...   \n",
       "652           3/02/2022                                     300.0   \n",
       "654             31/2022                                     600.0   \n",
       "657             12/2022                                     750.0   \n",
       "658           3/02/2022                                     290.0   \n",
       "668                                  8/02/2022             1760.0   \n",
       "\n",
       "    waluta koszt  NETTO_PLN  \n",
       "0            EUR    8705.80  \n",
       "1            EUR    7317.92  \n",
       "2            EUR    4543.01  \n",
       "3            EUR    4359.46  \n",
       "4            EUR    4359.46  \n",
       "..           ...        ...  \n",
       "652          EUR    1517.41  \n",
       "654          EUR    2988.83  \n",
       "657          EUR    4095.00  \n",
       "658          EUR    1655.35  \n",
       "668          PLN    1920.00  \n",
       "\n",
       "[278 rows x 9 columns]"
      ]
     },
     "execution_count": 47,
     "metadata": {},
     "output_type": "execute_result"
    }
   ],
   "source": [
    "zlec_df[saldo_cols].loc[zlec_df.faktura != ''].join(przych_faktury_df['NETTO_PLN'], how='left', on = 'faktura')"
   ]
  },
  {
   "cell_type": "code",
   "execution_count": 50,
   "metadata": {},
   "outputs": [
    {
     "data": {
      "text/plain": [
       "480"
      ]
     },
     "execution_count": 50,
     "metadata": {},
     "output_type": "execute_result"
    }
   ],
   "source": [
    "len(zlec_df.loc[zlec_df['faktura przewoźnika'] != ''])"
   ]
  },
  {
   "cell_type": "code",
   "execution_count": 49,
   "metadata": {
    "scrolled": false
   },
   "outputs": [
    {
     "data": {
      "text/html": [
       "<div>\n",
       "<style scoped>\n",
       "    .dataframe tbody tr th:only-of-type {\n",
       "        vertical-align: middle;\n",
       "    }\n",
       "\n",
       "    .dataframe tbody tr th {\n",
       "        vertical-align: top;\n",
       "    }\n",
       "\n",
       "    .dataframe thead th {\n",
       "        text-align: right;\n",
       "    }\n",
       "</style>\n",
       "<table border=\"1\" class=\"dataframe\">\n",
       "  <thead>\n",
       "    <tr style=\"text-align: right;\">\n",
       "      <th></th>\n",
       "      <th>przychód netto</th>\n",
       "      <th>waluta przychodu</th>\n",
       "      <th>faktura</th>\n",
       "      <th>FAKTURA_ZB_ID</th>\n",
       "      <th>faktura przewoźnika</th>\n",
       "      <th>faktura przew zbiorcza</th>\n",
       "      <th>koszt przewoźnika</th>\n",
       "      <th>waluta koszt</th>\n",
       "      <th>NETTO_PLN</th>\n",
       "    </tr>\n",
       "  </thead>\n",
       "  <tbody>\n",
       "    <tr>\n",
       "      <th>1</th>\n",
       "      <td>1600.00</td>\n",
       "      <td>EUR</td>\n",
       "      <td>00008/FV/01/2022/MS</td>\n",
       "      <td></td>\n",
       "      <td>2/2022</td>\n",
       "      <td></td>\n",
       "      <td>1500.0</td>\n",
       "      <td>EUR</td>\n",
       "      <td>6860.55</td>\n",
       "    </tr>\n",
       "    <tr>\n",
       "      <th>1</th>\n",
       "      <td>1600.00</td>\n",
       "      <td>EUR</td>\n",
       "      <td>00008/FV/01/2022/MS</td>\n",
       "      <td></td>\n",
       "      <td>2/2022</td>\n",
       "      <td></td>\n",
       "      <td>1500.0</td>\n",
       "      <td>EUR</td>\n",
       "      <td>3197.04</td>\n",
       "    </tr>\n",
       "    <tr>\n",
       "      <th>2</th>\n",
       "      <td>990.00</td>\n",
       "      <td>EUR</td>\n",
       "      <td>00031/FV/01/2022/MS</td>\n",
       "      <td></td>\n",
       "      <td>FV/62/01/2021</td>\n",
       "      <td></td>\n",
       "      <td>890.0</td>\n",
       "      <td>EUR</td>\n",
       "      <td>4084.12</td>\n",
       "    </tr>\n",
       "    <tr>\n",
       "      <th>3</th>\n",
       "      <td>950.00</td>\n",
       "      <td>EUR</td>\n",
       "      <td>00029/FV/01/2022/MS</td>\n",
       "      <td></td>\n",
       "      <td>FV/36/01/2022</td>\n",
       "      <td></td>\n",
       "      <td>890.0</td>\n",
       "      <td>EUR</td>\n",
       "      <td>4070.59</td>\n",
       "    </tr>\n",
       "    <tr>\n",
       "      <th>4</th>\n",
       "      <td>950.00</td>\n",
       "      <td>EUR</td>\n",
       "      <td>00028/FV/01/2022/MS</td>\n",
       "      <td></td>\n",
       "      <td>FV/126/01/2022</td>\n",
       "      <td></td>\n",
       "      <td>890.0</td>\n",
       "      <td>EUR</td>\n",
       "      <td>4070.59</td>\n",
       "    </tr>\n",
       "    <tr>\n",
       "      <th>...</th>\n",
       "      <td>...</td>\n",
       "      <td>...</td>\n",
       "      <td>...</td>\n",
       "      <td>...</td>\n",
       "      <td>...</td>\n",
       "      <td>...</td>\n",
       "      <td>...</td>\n",
       "      <td>...</td>\n",
       "      <td>...</td>\n",
       "    </tr>\n",
       "    <tr>\n",
       "      <th>657</th>\n",
       "      <td>900.00</td>\n",
       "      <td>EUR</td>\n",
       "      <td>00066/FV/02/2022/MS</td>\n",
       "      <td></td>\n",
       "      <td>12/2022</td>\n",
       "      <td></td>\n",
       "      <td>750.0</td>\n",
       "      <td>EUR</td>\n",
       "      <td>3412.50</td>\n",
       "    </tr>\n",
       "    <tr>\n",
       "      <th>658</th>\n",
       "      <td>360.00</td>\n",
       "      <td>EUR</td>\n",
       "      <td>00010/FV/02/2022/MS</td>\n",
       "      <td></td>\n",
       "      <td>3/02/2022</td>\n",
       "      <td></td>\n",
       "      <td>290.0</td>\n",
       "      <td>EUR</td>\n",
       "      <td>1379.46</td>\n",
       "    </tr>\n",
       "    <tr>\n",
       "      <th>658</th>\n",
       "      <td>360.00</td>\n",
       "      <td>EUR</td>\n",
       "      <td>00010/FV/02/2022/MS</td>\n",
       "      <td></td>\n",
       "      <td>3/02/2022</td>\n",
       "      <td></td>\n",
       "      <td>290.0</td>\n",
       "      <td>EUR</td>\n",
       "      <td>1333.48</td>\n",
       "    </tr>\n",
       "    <tr>\n",
       "      <th>659</th>\n",
       "      <td>1085.72</td>\n",
       "      <td>PLN</td>\n",
       "      <td></td>\n",
       "      <td>13583</td>\n",
       "      <td>8/TR/2022</td>\n",
       "      <td></td>\n",
       "      <td>1010.0</td>\n",
       "      <td>PLN</td>\n",
       "      <td>1010.00</td>\n",
       "    </tr>\n",
       "    <tr>\n",
       "      <th>662</th>\n",
       "      <td>550.00</td>\n",
       "      <td>EUR</td>\n",
       "      <td></td>\n",
       "      <td>13583</td>\n",
       "      <td>FS/22/2/66</td>\n",
       "      <td></td>\n",
       "      <td>430.0</td>\n",
       "      <td>EUR</td>\n",
       "      <td>1977.23</td>\n",
       "    </tr>\n",
       "  </tbody>\n",
       "</table>\n",
       "<p>631 rows × 9 columns</p>\n",
       "</div>"
      ],
      "text/plain": [
       "     przychód netto waluta przychodu              faktura FAKTURA_ZB_ID  \\\n",
       "1           1600.00              EUR  00008/FV/01/2022/MS                 \n",
       "1           1600.00              EUR  00008/FV/01/2022/MS                 \n",
       "2            990.00              EUR  00031/FV/01/2022/MS                 \n",
       "3            950.00              EUR  00029/FV/01/2022/MS                 \n",
       "4            950.00              EUR  00028/FV/01/2022/MS                 \n",
       "..              ...              ...                  ...           ...   \n",
       "657          900.00              EUR  00066/FV/02/2022/MS                 \n",
       "658          360.00              EUR  00010/FV/02/2022/MS                 \n",
       "658          360.00              EUR  00010/FV/02/2022/MS                 \n",
       "659         1085.72              PLN                              13583   \n",
       "662          550.00              EUR                              13583   \n",
       "\n",
       "    faktura przewoźnika faktura przew zbiorcza  koszt przewoźnika  \\\n",
       "1                2/2022                                    1500.0   \n",
       "1                2/2022                                    1500.0   \n",
       "2         FV/62/01/2021                                     890.0   \n",
       "3         FV/36/01/2022                                     890.0   \n",
       "4        FV/126/01/2022                                     890.0   \n",
       "..                  ...                    ...                ...   \n",
       "657             12/2022                                     750.0   \n",
       "658           3/02/2022                                     290.0   \n",
       "658           3/02/2022                                     290.0   \n",
       "659           8/TR/2022                                    1010.0   \n",
       "662          FS/22/2/66                                     430.0   \n",
       "\n",
       "    waluta koszt  NETTO_PLN  \n",
       "1            EUR    6860.55  \n",
       "1            EUR    3197.04  \n",
       "2            EUR    4084.12  \n",
       "3            EUR    4070.59  \n",
       "4            EUR    4070.59  \n",
       "..           ...        ...  \n",
       "657          EUR    3412.50  \n",
       "658          EUR    1379.46  \n",
       "658          EUR    1333.48  \n",
       "659          PLN    1010.00  \n",
       "662          EUR    1977.23  \n",
       "\n",
       "[631 rows x 9 columns]"
      ]
     },
     "execution_count": 49,
     "metadata": {},
     "output_type": "execute_result"
    }
   ],
   "source": [
    "zlec_df[saldo_cols].loc[zlec_df['faktura przewoźnika'] != ''].join(koszt_faktury_df['NETTO_PLN'], how='left', on = 'faktura przewoźnika')"
   ]
  },
  {
   "cell_type": "code",
   "execution_count": null,
   "metadata": {},
   "outputs": [],
   "source": [
    "zlec_df[zlec_cols].loc[zlec_df.WALUTA_FV_P != 'PLN']"
   ]
  },
  {
   "cell_type": "code",
   "execution_count": 51,
   "metadata": {},
   "outputs": [],
   "source": [
    "zlec_query_1 = \"\"\"\n",
    " SELECT * \n",
    " FROM [SPEED].[dbo].[ZLECENIA]\n",
    " WHERE MONTH([ZA_DATA]) = 1\n",
    " AND YEAR([ZA_DATA]) = 2022\n",
    " AND [ZAFAKTUROWANE] = 1\n",
    " \"\"\""
   ]
  },
  {
   "cell_type": "code",
   "execution_count": 52,
   "metadata": {},
   "outputs": [],
   "source": [
    "zlec_df_1 = dataframe_from_query(cursor, zlec_query_1)"
   ]
  },
  {
   "cell_type": "code",
   "execution_count": 53,
   "metadata": {},
   "outputs": [
    {
     "data": {
      "text/plain": [
       "Index(['ID_ZLECENIA', 'MYJNIA', 'ZLECENIE_ID', 'BEZ_SFM', 'SFM_STATUS',\n",
       "       'SFM_VER', 'SFM_L_ZA_WY', 'SFM_WYSL', 'MobileStatus', 'MobileSequence',\n",
       "       ...\n",
       "       'CREATE_USER_NAME', 'CREATE_DATE', 'CREATE_TIME', 'MODIFY_ID_USER',\n",
       "       'MODIFY_USER_NAME', 'MODIFY_DATE', 'MODIFY_TIME', 'DATA_KONTR_WYKAZ_WL',\n",
       "       'WYNIK_KONTR_WYKAZ_WL', 'REQUEST_ID'],\n",
       "      dtype='object', length=347)"
      ]
     },
     "execution_count": 53,
     "metadata": {},
     "output_type": "execute_result"
    }
   ],
   "source": [
    "zlec_df_1.columns"
   ]
  },
  {
   "cell_type": "code",
   "execution_count": 56,
   "metadata": {},
   "outputs": [],
   "source": [
    "zlec_fakt_col = [el for el in list(all_faktury_df.columns) if 'ZLEC' in el]"
   ]
  },
  {
   "cell_type": "code",
   "execution_count": 57,
   "metadata": {},
   "outputs": [
    {
     "data": {
      "text/plain": [
       "['ZLECENIE_ID',\n",
       " 'ZLECENIE',\n",
       " 'ZLECENIE_C_ID',\n",
       " 'ZLECENIE_C',\n",
       " 'ZLECENIE_M_ID',\n",
       " 'ZLECENIE_M',\n",
       " 'ZLECENIE_RAIL_ID',\n",
       " 'ZLECENIE_RAIL',\n",
       " 'ZLECENIE_ZB_ID',\n",
       " 'ZLECENIE_ZB',\n",
       " 'NR_ZLEC_K',\n",
       " 'W_ZLECENIE',\n",
       " 'W_ZLECENIE_ID']"
      ]
     },
     "execution_count": 57,
     "metadata": {},
     "output_type": "execute_result"
    }
   ],
   "source": [
    "zlec_fakt_col"
   ]
  },
  {
   "cell_type": "code",
   "execution_count": 64,
   "metadata": {},
   "outputs": [],
   "source": [
    "faktury_zlec_counts = all_faktury_df.ZLECENIE_ID.value_counts()"
   ]
  },
  {
   "cell_type": "code",
   "execution_count": 69,
   "metadata": {},
   "outputs": [
    {
     "data": {
      "text/plain": [
       "8426    1\n",
       "8425    1\n",
       "8396    1\n",
       "8398    1\n",
       "8211    1\n",
       "       ..\n",
       "7862    1\n",
       "7867    1\n",
       "7868    1\n",
       "7869    1\n",
       "8192    1\n",
       "Name: ZLECENIE_ID, Length: 267, dtype: int64"
      ]
     },
     "execution_count": 69,
     "metadata": {},
     "output_type": "execute_result"
    }
   ],
   "source": [
    "faktury_zlec_counts.loc[faktury_zlec_counts == 1]"
   ]
  },
  {
   "cell_type": "code",
   "execution_count": 63,
   "metadata": {
    "scrolled": true
   },
   "outputs": [
    {
     "data": {
      "text/html": [
       "<div>\n",
       "<style scoped>\n",
       "    .dataframe tbody tr th:only-of-type {\n",
       "        vertical-align: middle;\n",
       "    }\n",
       "\n",
       "    .dataframe tbody tr th {\n",
       "        vertical-align: top;\n",
       "    }\n",
       "\n",
       "    .dataframe thead th {\n",
       "        text-align: right;\n",
       "    }\n",
       "</style>\n",
       "<table border=\"1\" class=\"dataframe\">\n",
       "  <thead>\n",
       "    <tr style=\"text-align: right;\">\n",
       "      <th></th>\n",
       "      <th>NETTO_PLN</th>\n",
       "      <th>NUMER_FAKTURY</th>\n",
       "      <th>ID_FAKTURY</th>\n",
       "      <th>ZLECENIE_ID</th>\n",
       "      <th>NOTA</th>\n",
       "      <th>NOTA_UZNANIOWA</th>\n",
       "    </tr>\n",
       "  </thead>\n",
       "  <tbody>\n",
       "    <tr>\n",
       "      <th>448</th>\n",
       "      <td>6414.94</td>\n",
       "      <td>021/2022</td>\n",
       "      <td>13513</td>\n",
       "      <td>8202</td>\n",
       "      <td>0</td>\n",
       "      <td>0</td>\n",
       "    </tr>\n",
       "    <tr>\n",
       "      <th>449</th>\n",
       "      <td>8018.68</td>\n",
       "      <td>00022/FV/02/2022/MS</td>\n",
       "      <td>13653</td>\n",
       "      <td>8202</td>\n",
       "      <td>0</td>\n",
       "      <td>0</td>\n",
       "    </tr>\n",
       "    <tr>\n",
       "      <th>450</th>\n",
       "      <td>1827.88</td>\n",
       "      <td>01/01/2022</td>\n",
       "      <td>13755</td>\n",
       "      <td>8202</td>\n",
       "      <td>1</td>\n",
       "      <td>0</td>\n",
       "    </tr>\n",
       "    <tr>\n",
       "      <th>451</th>\n",
       "      <td>1806.68</td>\n",
       "      <td>00036/N/2022/OK/MS</td>\n",
       "      <td>13788</td>\n",
       "      <td>8202</td>\n",
       "      <td>1</td>\n",
       "      <td>0</td>\n",
       "    </tr>\n",
       "  </tbody>\n",
       "</table>\n",
       "</div>"
      ],
      "text/plain": [
       "     NETTO_PLN        NUMER_FAKTURY  ID_FAKTURY  ZLECENIE_ID  NOTA  \\\n",
       "448    6414.94             021/2022       13513         8202     0   \n",
       "449    8018.68  00022/FV/02/2022/MS       13653         8202     0   \n",
       "450    1827.88           01/01/2022       13755         8202     1   \n",
       "451    1806.68   00036/N/2022/OK/MS       13788         8202     1   \n",
       "\n",
       "     NOTA_UZNANIOWA  \n",
       "448               0  \n",
       "449               0  \n",
       "450               0  \n",
       "451               0  "
      ]
     },
     "execution_count": 63,
     "metadata": {},
     "output_type": "execute_result"
    }
   ],
   "source": [
    "all_faktury_df[faktury_cols + ['NOTA', 'NOTA_UZNANIOWA']].loc[all_faktury_df.ZLECENIE_ID == 8202]"
   ]
  },
  {
   "cell_type": "code",
   "execution_count": null,
   "metadata": {},
   "outputs": [],
   "source": []
  }
 ],
 "metadata": {
  "kernelspec": {
   "display_name": "Python 3",
   "language": "python",
   "name": "python3"
  },
  "language_info": {
   "codemirror_mode": {
    "name": "ipython",
    "version": 3
   },
   "file_extension": ".py",
   "mimetype": "text/x-python",
   "name": "python",
   "nbconvert_exporter": "python",
   "pygments_lexer": "ipython3",
   "version": "3.8.5"
  }
 },
 "nbformat": 4,
 "nbformat_minor": 4
}
